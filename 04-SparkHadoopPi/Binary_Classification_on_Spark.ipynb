{
 "cells": [
  {
   "cell_type": "markdown",
   "metadata": {
    "deletable": true,
    "editable": true
   },
   "source": [
    "# Binary Classification on Spark\n",
    "\n",
    "This is just a demonstration of PySpark. See [official document](https://spark.apache.org/docs/latest/) for detailed explanation."
   ]
  },
  {
   "cell_type": "markdown",
   "metadata": {
    "deletable": true,
    "editable": true
   },
   "source": [
    "## With scikit-learn\n",
    "\n",
    "First we look at a process with scikit-learn. We will execute a similar process with Spark."
   ]
  },
  {
   "cell_type": "code",
   "execution_count": 1,
   "metadata": {
    "collapsed": false,
    "deletable": true,
    "editable": true
   },
   "outputs": [],
   "source": [
    "import numpy as np\n",
    "import pandas as pd"
   ]
  },
  {
   "cell_type": "code",
   "execution_count": 2,
   "metadata": {
    "collapsed": false,
    "deletable": true,
    "editable": true
   },
   "outputs": [],
   "source": [
    "from sklearn.datasets import load_breast_cancer\n",
    "\n",
    "bcancer = load_breast_cancer()\n",
    "df = pd.DataFrame(bcancer.data, columns=bcancer.feature_names)\n",
    "df['label'] = [bcancer.target_names[x] for x in bcancer.target]"
   ]
  },
  {
   "cell_type": "code",
   "execution_count": 3,
   "metadata": {
    "collapsed": false,
    "deletable": true,
    "editable": true
   },
   "outputs": [
    {
     "data": {
      "text/html": [
       "<div>\n",
       "<table border=\"1\" class=\"dataframe\">\n",
       "  <thead>\n",
       "    <tr style=\"text-align: right;\">\n",
       "      <th></th>\n",
       "      <th>mean radius</th>\n",
       "      <th>mean texture</th>\n",
       "      <th>mean perimeter</th>\n",
       "      <th>mean area</th>\n",
       "      <th>mean smoothness</th>\n",
       "      <th>mean compactness</th>\n",
       "      <th>mean concavity</th>\n",
       "      <th>mean concave points</th>\n",
       "      <th>mean symmetry</th>\n",
       "      <th>mean fractal dimension</th>\n",
       "      <th>...</th>\n",
       "      <th>worst texture</th>\n",
       "      <th>worst perimeter</th>\n",
       "      <th>worst area</th>\n",
       "      <th>worst smoothness</th>\n",
       "      <th>worst compactness</th>\n",
       "      <th>worst concavity</th>\n",
       "      <th>worst concave points</th>\n",
       "      <th>worst symmetry</th>\n",
       "      <th>worst fractal dimension</th>\n",
       "      <th>label</th>\n",
       "    </tr>\n",
       "  </thead>\n",
       "  <tbody>\n",
       "    <tr>\n",
       "      <th>0</th>\n",
       "      <td>17.99</td>\n",
       "      <td>10.38</td>\n",
       "      <td>122.80</td>\n",
       "      <td>1001.0</td>\n",
       "      <td>0.11840</td>\n",
       "      <td>0.27760</td>\n",
       "      <td>0.3001</td>\n",
       "      <td>0.14710</td>\n",
       "      <td>0.2419</td>\n",
       "      <td>0.07871</td>\n",
       "      <td>...</td>\n",
       "      <td>17.33</td>\n",
       "      <td>184.60</td>\n",
       "      <td>2019.0</td>\n",
       "      <td>0.1622</td>\n",
       "      <td>0.6656</td>\n",
       "      <td>0.7119</td>\n",
       "      <td>0.2654</td>\n",
       "      <td>0.4601</td>\n",
       "      <td>0.11890</td>\n",
       "      <td>malignant</td>\n",
       "    </tr>\n",
       "    <tr>\n",
       "      <th>1</th>\n",
       "      <td>20.57</td>\n",
       "      <td>17.77</td>\n",
       "      <td>132.90</td>\n",
       "      <td>1326.0</td>\n",
       "      <td>0.08474</td>\n",
       "      <td>0.07864</td>\n",
       "      <td>0.0869</td>\n",
       "      <td>0.07017</td>\n",
       "      <td>0.1812</td>\n",
       "      <td>0.05667</td>\n",
       "      <td>...</td>\n",
       "      <td>23.41</td>\n",
       "      <td>158.80</td>\n",
       "      <td>1956.0</td>\n",
       "      <td>0.1238</td>\n",
       "      <td>0.1866</td>\n",
       "      <td>0.2416</td>\n",
       "      <td>0.1860</td>\n",
       "      <td>0.2750</td>\n",
       "      <td>0.08902</td>\n",
       "      <td>malignant</td>\n",
       "    </tr>\n",
       "    <tr>\n",
       "      <th>2</th>\n",
       "      <td>19.69</td>\n",
       "      <td>21.25</td>\n",
       "      <td>130.00</td>\n",
       "      <td>1203.0</td>\n",
       "      <td>0.10960</td>\n",
       "      <td>0.15990</td>\n",
       "      <td>0.1974</td>\n",
       "      <td>0.12790</td>\n",
       "      <td>0.2069</td>\n",
       "      <td>0.05999</td>\n",
       "      <td>...</td>\n",
       "      <td>25.53</td>\n",
       "      <td>152.50</td>\n",
       "      <td>1709.0</td>\n",
       "      <td>0.1444</td>\n",
       "      <td>0.4245</td>\n",
       "      <td>0.4504</td>\n",
       "      <td>0.2430</td>\n",
       "      <td>0.3613</td>\n",
       "      <td>0.08758</td>\n",
       "      <td>malignant</td>\n",
       "    </tr>\n",
       "    <tr>\n",
       "      <th>3</th>\n",
       "      <td>11.42</td>\n",
       "      <td>20.38</td>\n",
       "      <td>77.58</td>\n",
       "      <td>386.1</td>\n",
       "      <td>0.14250</td>\n",
       "      <td>0.28390</td>\n",
       "      <td>0.2414</td>\n",
       "      <td>0.10520</td>\n",
       "      <td>0.2597</td>\n",
       "      <td>0.09744</td>\n",
       "      <td>...</td>\n",
       "      <td>26.50</td>\n",
       "      <td>98.87</td>\n",
       "      <td>567.7</td>\n",
       "      <td>0.2098</td>\n",
       "      <td>0.8663</td>\n",
       "      <td>0.6869</td>\n",
       "      <td>0.2575</td>\n",
       "      <td>0.6638</td>\n",
       "      <td>0.17300</td>\n",
       "      <td>malignant</td>\n",
       "    </tr>\n",
       "    <tr>\n",
       "      <th>4</th>\n",
       "      <td>20.29</td>\n",
       "      <td>14.34</td>\n",
       "      <td>135.10</td>\n",
       "      <td>1297.0</td>\n",
       "      <td>0.10030</td>\n",
       "      <td>0.13280</td>\n",
       "      <td>0.1980</td>\n",
       "      <td>0.10430</td>\n",
       "      <td>0.1809</td>\n",
       "      <td>0.05883</td>\n",
       "      <td>...</td>\n",
       "      <td>16.67</td>\n",
       "      <td>152.20</td>\n",
       "      <td>1575.0</td>\n",
       "      <td>0.1374</td>\n",
       "      <td>0.2050</td>\n",
       "      <td>0.4000</td>\n",
       "      <td>0.1625</td>\n",
       "      <td>0.2364</td>\n",
       "      <td>0.07678</td>\n",
       "      <td>malignant</td>\n",
       "    </tr>\n",
       "  </tbody>\n",
       "</table>\n",
       "<p>5 rows × 31 columns</p>\n",
       "</div>"
      ],
      "text/plain": [
       "   mean radius  mean texture  mean perimeter  mean area  mean smoothness  \\\n",
       "0        17.99         10.38          122.80     1001.0          0.11840   \n",
       "1        20.57         17.77          132.90     1326.0          0.08474   \n",
       "2        19.69         21.25          130.00     1203.0          0.10960   \n",
       "3        11.42         20.38           77.58      386.1          0.14250   \n",
       "4        20.29         14.34          135.10     1297.0          0.10030   \n",
       "\n",
       "   mean compactness  mean concavity  mean concave points  mean symmetry  \\\n",
       "0           0.27760          0.3001              0.14710         0.2419   \n",
       "1           0.07864          0.0869              0.07017         0.1812   \n",
       "2           0.15990          0.1974              0.12790         0.2069   \n",
       "3           0.28390          0.2414              0.10520         0.2597   \n",
       "4           0.13280          0.1980              0.10430         0.1809   \n",
       "\n",
       "   mean fractal dimension    ...      worst texture  worst perimeter  \\\n",
       "0                 0.07871    ...              17.33           184.60   \n",
       "1                 0.05667    ...              23.41           158.80   \n",
       "2                 0.05999    ...              25.53           152.50   \n",
       "3                 0.09744    ...              26.50            98.87   \n",
       "4                 0.05883    ...              16.67           152.20   \n",
       "\n",
       "   worst area  worst smoothness  worst compactness  worst concavity  \\\n",
       "0      2019.0            0.1622             0.6656           0.7119   \n",
       "1      1956.0            0.1238             0.1866           0.2416   \n",
       "2      1709.0            0.1444             0.4245           0.4504   \n",
       "3       567.7            0.2098             0.8663           0.6869   \n",
       "4      1575.0            0.1374             0.2050           0.4000   \n",
       "\n",
       "   worst concave points  worst symmetry  worst fractal dimension      label  \n",
       "0                0.2654          0.4601                  0.11890  malignant  \n",
       "1                0.1860          0.2750                  0.08902  malignant  \n",
       "2                0.2430          0.3613                  0.08758  malignant  \n",
       "3                0.2575          0.6638                  0.17300  malignant  \n",
       "4                0.1625          0.2364                  0.07678  malignant  \n",
       "\n",
       "[5 rows x 31 columns]"
      ]
     },
     "execution_count": 3,
     "metadata": {},
     "output_type": "execute_result"
    }
   ],
   "source": [
    "df.head()"
   ]
  },
  {
   "cell_type": "code",
   "execution_count": 4,
   "metadata": {
    "collapsed": false,
    "deletable": true,
    "editable": true
   },
   "outputs": [],
   "source": [
    "from sklearn.preprocessing import StandardScaler\n",
    "scaler = StandardScaler(with_mean=True, with_std=True)\n",
    "scaler.fit(df.drop('label',axis=1));"
   ]
  },
  {
   "cell_type": "code",
   "execution_count": 5,
   "metadata": {
    "collapsed": false,
    "deletable": true,
    "editable": true
   },
   "outputs": [
    {
     "data": {
      "text/html": [
       "<div>\n",
       "<table border=\"1\" class=\"dataframe\">\n",
       "  <thead>\n",
       "    <tr style=\"text-align: right;\">\n",
       "      <th></th>\n",
       "      <th>mean radius</th>\n",
       "      <th>mean texture</th>\n",
       "      <th>mean perimeter</th>\n",
       "      <th>mean area</th>\n",
       "      <th>mean smoothness</th>\n",
       "      <th>mean compactness</th>\n",
       "      <th>mean concavity</th>\n",
       "      <th>mean concave points</th>\n",
       "      <th>mean symmetry</th>\n",
       "      <th>mean fractal dimension</th>\n",
       "      <th>...</th>\n",
       "      <th>worst texture</th>\n",
       "      <th>worst perimeter</th>\n",
       "      <th>worst area</th>\n",
       "      <th>worst smoothness</th>\n",
       "      <th>worst compactness</th>\n",
       "      <th>worst concavity</th>\n",
       "      <th>worst concave points</th>\n",
       "      <th>worst symmetry</th>\n",
       "      <th>worst fractal dimension</th>\n",
       "      <th>label</th>\n",
       "    </tr>\n",
       "  </thead>\n",
       "  <tbody>\n",
       "    <tr>\n",
       "      <th>564</th>\n",
       "      <td>2.110995</td>\n",
       "      <td>0.721473</td>\n",
       "      <td>2.060786</td>\n",
       "      <td>2.343856</td>\n",
       "      <td>1.041842</td>\n",
       "      <td>0.219060</td>\n",
       "      <td>1.947285</td>\n",
       "      <td>2.320965</td>\n",
       "      <td>-0.312589</td>\n",
       "      <td>-0.931027</td>\n",
       "      <td>...</td>\n",
       "      <td>0.117700</td>\n",
       "      <td>1.752563</td>\n",
       "      <td>2.015301</td>\n",
       "      <td>0.378365</td>\n",
       "      <td>-0.273318</td>\n",
       "      <td>0.664512</td>\n",
       "      <td>1.629151</td>\n",
       "      <td>-1.360158</td>\n",
       "      <td>-0.709091</td>\n",
       "      <td>malignant</td>\n",
       "    </tr>\n",
       "    <tr>\n",
       "      <th>565</th>\n",
       "      <td>1.704854</td>\n",
       "      <td>2.085134</td>\n",
       "      <td>1.615931</td>\n",
       "      <td>1.723842</td>\n",
       "      <td>0.102458</td>\n",
       "      <td>-0.017833</td>\n",
       "      <td>0.693043</td>\n",
       "      <td>1.263669</td>\n",
       "      <td>-0.217664</td>\n",
       "      <td>-1.058611</td>\n",
       "      <td>...</td>\n",
       "      <td>2.047399</td>\n",
       "      <td>1.421940</td>\n",
       "      <td>1.494959</td>\n",
       "      <td>-0.691230</td>\n",
       "      <td>-0.394820</td>\n",
       "      <td>0.236573</td>\n",
       "      <td>0.733827</td>\n",
       "      <td>-0.531855</td>\n",
       "      <td>-0.973978</td>\n",
       "      <td>malignant</td>\n",
       "    </tr>\n",
       "    <tr>\n",
       "      <th>566</th>\n",
       "      <td>0.702284</td>\n",
       "      <td>2.045574</td>\n",
       "      <td>0.672676</td>\n",
       "      <td>0.577953</td>\n",
       "      <td>-0.840484</td>\n",
       "      <td>-0.038680</td>\n",
       "      <td>0.046588</td>\n",
       "      <td>0.105777</td>\n",
       "      <td>-0.809117</td>\n",
       "      <td>-0.895587</td>\n",
       "      <td>...</td>\n",
       "      <td>1.374854</td>\n",
       "      <td>0.579001</td>\n",
       "      <td>0.427906</td>\n",
       "      <td>-0.809587</td>\n",
       "      <td>0.350735</td>\n",
       "      <td>0.326767</td>\n",
       "      <td>0.414069</td>\n",
       "      <td>-1.104549</td>\n",
       "      <td>-0.318409</td>\n",
       "      <td>malignant</td>\n",
       "    </tr>\n",
       "    <tr>\n",
       "      <th>567</th>\n",
       "      <td>1.838341</td>\n",
       "      <td>2.336457</td>\n",
       "      <td>1.982524</td>\n",
       "      <td>1.735218</td>\n",
       "      <td>1.525767</td>\n",
       "      <td>3.272144</td>\n",
       "      <td>3.296944</td>\n",
       "      <td>2.658866</td>\n",
       "      <td>2.137194</td>\n",
       "      <td>1.043695</td>\n",
       "      <td>...</td>\n",
       "      <td>2.237926</td>\n",
       "      <td>2.303601</td>\n",
       "      <td>1.653171</td>\n",
       "      <td>1.430427</td>\n",
       "      <td>3.904848</td>\n",
       "      <td>3.197605</td>\n",
       "      <td>2.289985</td>\n",
       "      <td>1.919083</td>\n",
       "      <td>2.219635</td>\n",
       "      <td>malignant</td>\n",
       "    </tr>\n",
       "    <tr>\n",
       "      <th>568</th>\n",
       "      <td>-1.808401</td>\n",
       "      <td>1.221792</td>\n",
       "      <td>-1.814389</td>\n",
       "      <td>-1.347789</td>\n",
       "      <td>-3.112085</td>\n",
       "      <td>-1.150752</td>\n",
       "      <td>-1.114873</td>\n",
       "      <td>-1.261820</td>\n",
       "      <td>-0.820070</td>\n",
       "      <td>-0.561032</td>\n",
       "      <td>...</td>\n",
       "      <td>0.764190</td>\n",
       "      <td>-1.432735</td>\n",
       "      <td>-1.075813</td>\n",
       "      <td>-1.859019</td>\n",
       "      <td>-1.207552</td>\n",
       "      <td>-1.305831</td>\n",
       "      <td>-1.745063</td>\n",
       "      <td>-0.048138</td>\n",
       "      <td>-0.751207</td>\n",
       "      <td>benign</td>\n",
       "    </tr>\n",
       "  </tbody>\n",
       "</table>\n",
       "<p>5 rows × 31 columns</p>\n",
       "</div>"
      ],
      "text/plain": [
       "     mean radius  mean texture  mean perimeter  mean area  mean smoothness  \\\n",
       "564     2.110995      0.721473        2.060786   2.343856         1.041842   \n",
       "565     1.704854      2.085134        1.615931   1.723842         0.102458   \n",
       "566     0.702284      2.045574        0.672676   0.577953        -0.840484   \n",
       "567     1.838341      2.336457        1.982524   1.735218         1.525767   \n",
       "568    -1.808401      1.221792       -1.814389  -1.347789        -3.112085   \n",
       "\n",
       "     mean compactness  mean concavity  mean concave points  mean symmetry  \\\n",
       "564          0.219060        1.947285             2.320965      -0.312589   \n",
       "565         -0.017833        0.693043             1.263669      -0.217664   \n",
       "566         -0.038680        0.046588             0.105777      -0.809117   \n",
       "567          3.272144        3.296944             2.658866       2.137194   \n",
       "568         -1.150752       -1.114873            -1.261820      -0.820070   \n",
       "\n",
       "     mean fractal dimension    ...      worst texture  worst perimeter  \\\n",
       "564               -0.931027    ...           0.117700         1.752563   \n",
       "565               -1.058611    ...           2.047399         1.421940   \n",
       "566               -0.895587    ...           1.374854         0.579001   \n",
       "567                1.043695    ...           2.237926         2.303601   \n",
       "568               -0.561032    ...           0.764190        -1.432735   \n",
       "\n",
       "     worst area  worst smoothness  worst compactness  worst concavity  \\\n",
       "564    2.015301          0.378365          -0.273318         0.664512   \n",
       "565    1.494959         -0.691230          -0.394820         0.236573   \n",
       "566    0.427906         -0.809587           0.350735         0.326767   \n",
       "567    1.653171          1.430427           3.904848         3.197605   \n",
       "568   -1.075813         -1.859019          -1.207552        -1.305831   \n",
       "\n",
       "     worst concave points  worst symmetry  worst fractal dimension      label  \n",
       "564              1.629151       -1.360158                -0.709091  malignant  \n",
       "565              0.733827       -0.531855                -0.973978  malignant  \n",
       "566              0.414069       -1.104549                -0.318409  malignant  \n",
       "567              2.289985        1.919083                 2.219635  malignant  \n",
       "568             -1.745063       -0.048138                -0.751207     benign  \n",
       "\n",
       "[5 rows x 31 columns]"
      ]
     },
     "execution_count": 5,
     "metadata": {},
     "output_type": "execute_result"
    }
   ],
   "source": [
    "dg = pd.DataFrame(scaler.transform(df.drop('label',axis=1)), columns=df.columns[:-1])\n",
    "dg['label'] = df['label']\n",
    "dg.tail()"
   ]
  },
  {
   "cell_type": "code",
   "execution_count": 6,
   "metadata": {
    "collapsed": true,
    "deletable": true,
    "editable": true
   },
   "outputs": [],
   "source": [
    "from sklearn.model_selection import GridSearchCV\n",
    "\n",
    "X = dg.drop('label',axis=1)\n",
    "y = dg.label"
   ]
  },
  {
   "cell_type": "code",
   "execution_count": 7,
   "metadata": {
    "collapsed": false,
    "deletable": true,
    "editable": true
   },
   "outputs": [],
   "source": [
    "from sklearn.linear_model import LogisticRegression\n",
    "param_plr = {'C': [0.01,0.1,1,10], 'penalty': ['l1','l2']}\n",
    "grid_plr = GridSearchCV(LogisticRegression(), param_plr, cv=5, scoring='accuracy')\n",
    "grid_plr.fit(X,y);"
   ]
  },
  {
   "cell_type": "code",
   "execution_count": 8,
   "metadata": {
    "collapsed": false,
    "deletable": true,
    "editable": true
   },
   "outputs": [
    {
     "data": {
      "text/html": [
       "<div>\n",
       "<table border=\"1\" class=\"dataframe\">\n",
       "  <thead>\n",
       "    <tr style=\"text-align: right;\">\n",
       "      <th></th>\n",
       "      <th>params</th>\n",
       "      <th>mean_test_score</th>\n",
       "    </tr>\n",
       "  </thead>\n",
       "  <tbody>\n",
       "    <tr>\n",
       "      <th>0</th>\n",
       "      <td>{'penalty': 'l1', 'C': 0.01}</td>\n",
       "      <td>0.924429</td>\n",
       "    </tr>\n",
       "    <tr>\n",
       "      <th>1</th>\n",
       "      <td>{'penalty': 'l2', 'C': 0.01}</td>\n",
       "      <td>0.964851</td>\n",
       "    </tr>\n",
       "    <tr>\n",
       "      <th>2</th>\n",
       "      <td>{'penalty': 'l1', 'C': 0.1}</td>\n",
       "      <td>0.973638</td>\n",
       "    </tr>\n",
       "    <tr>\n",
       "      <th>3</th>\n",
       "      <td>{'penalty': 'l2', 'C': 0.1}</td>\n",
       "      <td>0.982425</td>\n",
       "    </tr>\n",
       "    <tr>\n",
       "      <th>4</th>\n",
       "      <td>{'penalty': 'l1', 'C': 1}</td>\n",
       "      <td>0.975395</td>\n",
       "    </tr>\n",
       "    <tr>\n",
       "      <th>5</th>\n",
       "      <td>{'penalty': 'l2', 'C': 1}</td>\n",
       "      <td>0.978910</td>\n",
       "    </tr>\n",
       "    <tr>\n",
       "      <th>6</th>\n",
       "      <td>{'penalty': 'l1', 'C': 10}</td>\n",
       "      <td>0.963093</td>\n",
       "    </tr>\n",
       "    <tr>\n",
       "      <th>7</th>\n",
       "      <td>{'penalty': 'l2', 'C': 10}</td>\n",
       "      <td>0.970123</td>\n",
       "    </tr>\n",
       "  </tbody>\n",
       "</table>\n",
       "</div>"
      ],
      "text/plain": [
       "                         params  mean_test_score\n",
       "0  {'penalty': 'l1', 'C': 0.01}         0.924429\n",
       "1  {'penalty': 'l2', 'C': 0.01}         0.964851\n",
       "2   {'penalty': 'l1', 'C': 0.1}         0.973638\n",
       "3   {'penalty': 'l2', 'C': 0.1}         0.982425\n",
       "4     {'penalty': 'l1', 'C': 1}         0.975395\n",
       "5     {'penalty': 'l2', 'C': 1}         0.978910\n",
       "6    {'penalty': 'l1', 'C': 10}         0.963093\n",
       "7    {'penalty': 'l2', 'C': 10}         0.970123"
      ]
     },
     "execution_count": 8,
     "metadata": {},
     "output_type": "execute_result"
    }
   ],
   "source": [
    "pd.DataFrame(grid_plr.cv_results_)[['params','mean_test_score']]"
   ]
  },
  {
   "cell_type": "code",
   "execution_count": 9,
   "metadata": {
    "collapsed": true,
    "deletable": true,
    "editable": true
   },
   "outputs": [],
   "source": [
    "from sklearn.tree import DecisionTreeClassifier\n",
    "param_tree = {'max_depth': [2,3,4,5]}\n",
    "grid_tree = GridSearchCV(DecisionTreeClassifier(random_state=3), param_tree, \n",
    "                         cv=5, scoring='accuracy')\n",
    "grid_tree.fit(X,y);"
   ]
  },
  {
   "cell_type": "code",
   "execution_count": 10,
   "metadata": {
    "collapsed": false,
    "deletable": true,
    "editable": true
   },
   "outputs": [
    {
     "data": {
      "text/html": [
       "<div>\n",
       "<table border=\"1\" class=\"dataframe\">\n",
       "  <thead>\n",
       "    <tr style=\"text-align: right;\">\n",
       "      <th></th>\n",
       "      <th>params</th>\n",
       "      <th>mean_test_score</th>\n",
       "    </tr>\n",
       "  </thead>\n",
       "  <tbody>\n",
       "    <tr>\n",
       "      <th>0</th>\n",
       "      <td>{'max_depth': 2}</td>\n",
       "      <td>0.927944</td>\n",
       "    </tr>\n",
       "    <tr>\n",
       "      <th>1</th>\n",
       "      <td>{'max_depth': 3}</td>\n",
       "      <td>0.924429</td>\n",
       "    </tr>\n",
       "    <tr>\n",
       "      <th>2</th>\n",
       "      <td>{'max_depth': 4}</td>\n",
       "      <td>0.927944</td>\n",
       "    </tr>\n",
       "    <tr>\n",
       "      <th>3</th>\n",
       "      <td>{'max_depth': 5}</td>\n",
       "      <td>0.924429</td>\n",
       "    </tr>\n",
       "  </tbody>\n",
       "</table>\n",
       "</div>"
      ],
      "text/plain": [
       "             params  mean_test_score\n",
       "0  {'max_depth': 2}         0.927944\n",
       "1  {'max_depth': 3}         0.924429\n",
       "2  {'max_depth': 4}         0.927944\n",
       "3  {'max_depth': 5}         0.924429"
      ]
     },
     "execution_count": 10,
     "metadata": {},
     "output_type": "execute_result"
    }
   ],
   "source": [
    "pd.DataFrame(grid_tree.cv_results_)[['params','mean_test_score']]"
   ]
  },
  {
   "cell_type": "code",
   "execution_count": 11,
   "metadata": {
    "collapsed": false,
    "deletable": true,
    "editable": true
   },
   "outputs": [],
   "source": [
    "df.reset_index().to_csv('/tmp/bcancer.csv', index=False)"
   ]
  },
  {
   "cell_type": "markdown",
   "metadata": {
    "deletable": true,
    "editable": true
   },
   "source": [
    "## PySpark"
   ]
  },
  {
   "cell_type": "code",
   "execution_count": 12,
   "metadata": {
    "collapsed": false,
    "deletable": true,
    "editable": true
   },
   "outputs": [],
   "source": [
    "from pyspark.sql import SparkSession\n",
    "\n",
    "spark = SparkSession.builder\\\n",
    "                    .appName(\"Binary classification on Spark\")\\\n",
    "                    .config(\"spark.some.config.option\", \"some-value\")\\\n",
    "                    .getOrCreate()"
   ]
  },
  {
   "cell_type": "code",
   "execution_count": 13,
   "metadata": {
    "collapsed": false,
    "deletable": true,
    "editable": true
   },
   "outputs": [
    {
     "name": "stdout",
     "output_type": "stream",
     "text": [
      "['index', 'mean radius', 'mean texture', 'mean perimeter', 'mean area', 'mean smoothness', 'mean compactness', 'mean concavity', 'mean concave points', 'mean symmetry', 'mean fractal dimension', 'radius error', 'texture error', 'perimeter error', 'area error', 'smoothness error', 'compactness error', 'concavity error', 'concave points error', 'symmetry error', 'fractal dimension error', 'worst radius', 'worst texture', 'worst perimeter', 'worst area', 'worst smoothness', 'worst compactness', 'worst concavity', 'worst concave points', 'worst symmetry', 'worst fractal dimension', 'label']\n"
     ]
    }
   ],
   "source": [
    "## load the data\n",
    "df = spark.read.csv('/tmp/bcancer.csv', header=True)\n",
    "print(df.columns)"
   ]
  },
  {
   "cell_type": "code",
   "execution_count": 14,
   "metadata": {
    "collapsed": false,
    "deletable": true,
    "editable": true
   },
   "outputs": [
    {
     "name": "stdout",
     "output_type": "stream",
     "text": [
      "root\n",
      " |-- index: string (nullable = true)\n",
      " |-- mean radius: string (nullable = true)\n",
      " |-- mean texture: string (nullable = true)\n",
      " |-- mean perimeter: string (nullable = true)\n",
      " |-- mean area: string (nullable = true)\n",
      " |-- mean smoothness: string (nullable = true)\n",
      " |-- mean compactness: string (nullable = true)\n",
      " |-- mean concavity: string (nullable = true)\n",
      " |-- mean concave points: string (nullable = true)\n",
      " |-- mean symmetry: string (nullable = true)\n",
      " |-- mean fractal dimension: string (nullable = true)\n",
      " |-- radius error: string (nullable = true)\n",
      " |-- texture error: string (nullable = true)\n",
      " |-- perimeter error: string (nullable = true)\n",
      " |-- area error: string (nullable = true)\n",
      " |-- smoothness error: string (nullable = true)\n",
      " |-- compactness error: string (nullable = true)\n",
      " |-- concavity error: string (nullable = true)\n",
      " |-- concave points error: string (nullable = true)\n",
      " |-- symmetry error: string (nullable = true)\n",
      " |-- fractal dimension error: string (nullable = true)\n",
      " |-- worst radius: string (nullable = true)\n",
      " |-- worst texture: string (nullable = true)\n",
      " |-- worst perimeter: string (nullable = true)\n",
      " |-- worst area: string (nullable = true)\n",
      " |-- worst smoothness: string (nullable = true)\n",
      " |-- worst compactness: string (nullable = true)\n",
      " |-- worst concavity: string (nullable = true)\n",
      " |-- worst concave points: string (nullable = true)\n",
      " |-- worst symmetry: string (nullable = true)\n",
      " |-- worst fractal dimension: string (nullable = true)\n",
      " |-- label: string (nullable = true)\n",
      "\n"
     ]
    }
   ],
   "source": [
    "df.printSchema() ## show the schema (data types of columns)"
   ]
  },
  {
   "cell_type": "code",
   "execution_count": 15,
   "metadata": {
    "collapsed": true,
    "deletable": true,
    "editable": true
   },
   "outputs": [],
   "source": [
    "for col in df.columns[:-1]:\n",
    "    df = df.withColumn(col, df[col].cast('float')) ## convert the data types"
   ]
  },
  {
   "cell_type": "code",
   "execution_count": 16,
   "metadata": {
    "collapsed": false,
    "deletable": true,
    "editable": true
   },
   "outputs": [
    {
     "name": "stdout",
     "output_type": "stream",
     "text": [
      "root\n",
      " |-- index: float (nullable = true)\n",
      " |-- mean radius: float (nullable = true)\n",
      " |-- mean texture: float (nullable = true)\n",
      " |-- mean perimeter: float (nullable = true)\n",
      " |-- mean area: float (nullable = true)\n",
      " |-- mean smoothness: float (nullable = true)\n",
      " |-- mean compactness: float (nullable = true)\n",
      " |-- mean concavity: float (nullable = true)\n",
      " |-- mean concave points: float (nullable = true)\n",
      " |-- mean symmetry: float (nullable = true)\n",
      " |-- mean fractal dimension: float (nullable = true)\n",
      " |-- radius error: float (nullable = true)\n",
      " |-- texture error: float (nullable = true)\n",
      " |-- perimeter error: float (nullable = true)\n",
      " |-- area error: float (nullable = true)\n",
      " |-- smoothness error: float (nullable = true)\n",
      " |-- compactness error: float (nullable = true)\n",
      " |-- concavity error: float (nullable = true)\n",
      " |-- concave points error: float (nullable = true)\n",
      " |-- symmetry error: float (nullable = true)\n",
      " |-- fractal dimension error: float (nullable = true)\n",
      " |-- worst radius: float (nullable = true)\n",
      " |-- worst texture: float (nullable = true)\n",
      " |-- worst perimeter: float (nullable = true)\n",
      " |-- worst area: float (nullable = true)\n",
      " |-- worst smoothness: float (nullable = true)\n",
      " |-- worst compactness: float (nullable = true)\n",
      " |-- worst concavity: float (nullable = true)\n",
      " |-- worst concave points: float (nullable = true)\n",
      " |-- worst symmetry: float (nullable = true)\n",
      " |-- worst fractal dimension: float (nullable = true)\n",
      " |-- label: string (nullable = true)\n",
      "\n"
     ]
    }
   ],
   "source": [
    "df.printSchema()"
   ]
  },
  {
   "cell_type": "code",
   "execution_count": 17,
   "metadata": {
    "collapsed": false,
    "deletable": true,
    "editable": true
   },
   "outputs": [
    {
     "name": "stdout",
     "output_type": "stream",
     "text": [
      "['mean radius', 'mean texture', 'mean perimeter', 'mean area', 'mean smoothness', 'mean compactness', 'mean concavity', 'mean concave points', 'mean symmetry', 'mean fractal dimension', 'radius error', 'texture error', 'perimeter error', 'area error', 'smoothness error', 'compactness error', 'concavity error', 'concave points error', 'symmetry error', 'fractal dimension error', 'worst radius', 'worst texture', 'worst perimeter', 'worst area', 'worst smoothness', 'worst compactness', 'worst concavity', 'worst concave points', 'worst symmetry', 'worst fractal dimension']\n"
     ]
    }
   ],
   "source": [
    "print(df.columns[1:-1]) ## feature variables"
   ]
  },
  {
   "cell_type": "code",
   "execution_count": 18,
   "metadata": {
    "collapsed": false,
    "deletable": true,
    "editable": true
   },
   "outputs": [
    {
     "name": "stdout",
     "output_type": "stream",
     "text": [
      "+-----+---------+------+\n",
      "|index|    label|target|\n",
      "+-----+---------+------+\n",
      "|  0.0|malignant|   1.0|\n",
      "|  1.0|malignant|   1.0|\n",
      "|  2.0|malignant|   1.0|\n",
      "|  3.0|malignant|   1.0|\n",
      "|  4.0|malignant|   1.0|\n",
      "|  5.0|malignant|   1.0|\n",
      "|  6.0|malignant|   1.0|\n",
      "|  7.0|malignant|   1.0|\n",
      "|  8.0|malignant|   1.0|\n",
      "|  9.0|malignant|   1.0|\n",
      "| 10.0|malignant|   1.0|\n",
      "| 11.0|malignant|   1.0|\n",
      "| 12.0|malignant|   1.0|\n",
      "| 13.0|malignant|   1.0|\n",
      "| 14.0|malignant|   1.0|\n",
      "| 15.0|malignant|   1.0|\n",
      "| 16.0|malignant|   1.0|\n",
      "| 17.0|malignant|   1.0|\n",
      "| 18.0|malignant|   1.0|\n",
      "| 19.0|   benign|   0.0|\n",
      "+-----+---------+------+\n",
      "only showing top 20 rows\n",
      "\n"
     ]
    }
   ],
   "source": [
    "from pyspark.ml.feature import StringIndexer\n",
    "## convert the target variable into indexes\n",
    "indexer = StringIndexer(inputCol='label', outputCol='target')\n",
    "\n",
    "## check if this works\n",
    "output0 = indexer.fit(df).transform(df)\n",
    "output0.select(['index','label','target']).show()"
   ]
  },
  {
   "cell_type": "code",
   "execution_count": 19,
   "metadata": {
    "collapsed": false,
    "deletable": true,
    "editable": true
   },
   "outputs": [
    {
     "name": "stdout",
     "output_type": "stream",
     "text": [
      "+---------------------------------------------------------------------------------------------------------------------------------------------------------------------------------------------------------------------------------------------------------------------------------------------------------------------------------------------------------------------------------------------------------------------------------------------------------------------------------------------------------------------------------------------------------------------------------+------+\n",
      "|features                                                                                                                                                                                                                                                                                                                                                                                                                                                                                                                                                                         |target|\n",
      "+---------------------------------------------------------------------------------------------------------------------------------------------------------------------------------------------------------------------------------------------------------------------------------------------------------------------------------------------------------------------------------------------------------------------------------------------------------------------------------------------------------------------------------------------------------------------------------+------+\n",
      "|[17.989999771118164,10.380000114440918,122.80000305175781,1001.0,0.11840000003576279,0.2775999903678894,0.3000999987125397,0.14710000157356262,0.2418999969959259,0.07870999723672867,1.0950000286102295,0.9053000211715698,8.58899974822998,153.39999389648438,0.006399000063538551,0.04904000088572502,0.05372999981045723,0.015869999304413795,0.03002999909222126,0.006192999891936779,25.3799991607666,17.329999923706055,184.60000610351562,2019.0,0.16220000386238098,0.6656000018119812,0.711899995803833,0.2653999924659729,0.460099995136261,0.11890000104904175]      |1.0   |\n",
      "|[20.56999969482422,17.770000457763672,132.89999389648438,1326.0,0.08473999798297882,0.07863999903202057,0.0869000032544136,0.07017000019550323,0.18119999766349792,0.05666999891400337,0.5435000061988831,0.7339000105857849,3.3980000019073486,74.08000183105469,0.005224999971687794,0.013079999946057796,0.01860000006854534,0.013399999588727951,0.013890000060200691,0.003531999886035919,24.989999771118164,23.40999984741211,158.8000030517578,1956.0,0.12380000203847885,0.186599999666214,0.24160000681877136,0.1860000044107437,0.2750000059604645,0.08901999890804291]|1.0   |\n",
      "+---------------------------------------------------------------------------------------------------------------------------------------------------------------------------------------------------------------------------------------------------------------------------------------------------------------------------------------------------------------------------------------------------------------------------------------------------------------------------------------------------------------------------------------------------------------------------------+------+\n",
      "only showing top 2 rows\n",
      "\n"
     ]
    }
   ],
   "source": [
    "from pyspark.ml.feature import VectorAssembler\n",
    "## collect several columns and make a column of vectors\n",
    "assembler = VectorAssembler(inputCols=df.columns[1:-1], outputCol='features')\n",
    "\n",
    "## check if this works\n",
    "output1 = assembler.transform(output0)\n",
    "output1.select(['features','target']).show(2, truncate=False)"
   ]
  },
  {
   "cell_type": "code",
   "execution_count": 20,
   "metadata": {
    "collapsed": false,
    "deletable": true,
    "editable": true
   },
   "outputs": [
    {
     "name": "stdout",
     "output_type": "stream",
     "text": [
      "+-----+--------------------+------+\n",
      "|index|      scaledFeatures|target|\n",
      "+-----+--------------------+------+\n",
      "|  0.0|[1.09609946770103...|   1.0|\n",
      "|  1.0|[1.82821189310576...|   1.0|\n",
      "|  2.0|[1.57849935861176...|   1.0|\n",
      "|  3.0|[-0.7682333050599...|   1.0|\n",
      "|  4.0|[1.74875817547660...|   1.0|\n",
      "+-----+--------------------+------+\n",
      "only showing top 5 rows\n",
      "\n"
     ]
    }
   ],
   "source": [
    "from pyspark.ml.feature import StandardScaler\n",
    "## convert the values of feature variables into so-called z-score\n",
    "scaler = StandardScaler(inputCol=\"features\", outputCol=\"scaledFeatures\",\n",
    "                        withStd=True, withMean=True)\n",
    "\n",
    "## check if this works\n",
    "output2 = scaler.fit(output1).transform(output1)\n",
    "output2.select(['index','scaledFeatures','target']).show(5)"
   ]
  },
  {
   "cell_type": "code",
   "execution_count": 21,
   "metadata": {
    "collapsed": false,
    "deletable": true,
    "editable": true
   },
   "outputs": [
    {
     "name": "stdout",
     "output_type": "stream",
     "text": [
      "+-----+---------+------+--------------------+--------------------+----------+\n",
      "|index|    label|target|       rawPrediction|         probability|prediction|\n",
      "+-----+---------+------+--------------------+--------------------+----------+\n",
      "|  0.0|malignant|   1.0|[-6.0735711701612...|[0.00229764301676...|       1.0|\n",
      "|  1.0|malignant|   1.0|[-2.5681949401107...|[0.07121360239452...|       1.0|\n",
      "|  2.0|malignant|   1.0|[-4.6129242295229...|[0.00982526566767...|       1.0|\n",
      "|  3.0|malignant|   1.0|[-3.1390600606333...|[0.04152451298545...|       1.0|\n",
      "|  4.0|malignant|   1.0|[-2.6198289474893...|[0.06787311464596...|       1.0|\n",
      "|  5.0|malignant|   1.0|[-0.6017401354838...|[0.35394567918113...|       1.0|\n",
      "|  6.0|malignant|   1.0|[-2.5739435099823...|[0.07083431514422...|       1.0|\n",
      "|  7.0|malignant|   1.0|[-0.6894290207694...|[0.33416010245534...|       1.0|\n",
      "|  8.0|malignant|   1.0|[-1.7618308092031...|[0.14656119212615...|       1.0|\n",
      "|  9.0|malignant|   1.0|[-3.1709857963004...|[0.04027229669087...|       1.0|\n",
      "| 10.0|malignant|   1.0|[-0.0233636106035...|[0.49415936302670...|       1.0|\n",
      "| 11.0|malignant|   1.0|[-1.8484769321663...|[0.13605182181162...|       1.0|\n",
      "| 12.0|malignant|   1.0|[-3.9026866159119...|[0.01978812734813...|       1.0|\n",
      "| 13.0|malignant|   1.0|[0.17095077059548...|[0.54263391480184...|       0.0|\n",
      "| 14.0|malignant|   1.0|[-1.8238534249153...|[0.13897213465430...|       1.0|\n",
      "| 15.0|malignant|   1.0|[-2.8435849189919...|[0.05501386978619...|       1.0|\n",
      "| 16.0|malignant|   1.0|[-0.6806827171500...|[0.33610894423904...|       1.0|\n",
      "| 17.0|malignant|   1.0|[-3.3392533938880...|[0.03424884374667...|       1.0|\n",
      "| 18.0|malignant|   1.0|[-5.3577847851593...|[0.00468923861114...|       1.0|\n",
      "| 19.0|   benign|   0.0|[1.60065235679773...|[0.83210954124652...|       0.0|\n",
      "+-----+---------+------+--------------------+--------------------+----------+\n",
      "only showing top 20 rows\n",
      "\n"
     ]
    }
   ],
   "source": [
    "from pyspark.ml.classification import LogisticRegression\n",
    "## penalised logistic regression \n",
    "lr = LogisticRegression(maxIter=10, regParam=0.1, elasticNetParam=0.1,\n",
    "                        featuresCol='scaledFeatures', labelCol='target')\n",
    "\n",
    "## training \n",
    "output3 = lr.fit(output2).transform(output2)\n",
    "output3.select(['index','label','target','rawPrediction','probability','prediction']).show()"
   ]
  },
  {
   "cell_type": "code",
   "execution_count": 22,
   "metadata": {
    "collapsed": true,
    "deletable": true,
    "editable": true
   },
   "outputs": [],
   "source": [
    "from pyspark.ml import Pipeline\n",
    "from pyspark.ml.evaluation import BinaryClassificationEvaluator\n",
    "from pyspark.ml.tuning import CrossValidator, ParamGridBuilder"
   ]
  },
  {
   "cell_type": "code",
   "execution_count": 23,
   "metadata": {
    "collapsed": true,
    "deletable": true,
    "editable": true
   },
   "outputs": [],
   "source": [
    "## create a pipeline\n",
    "indexer = StringIndexer(inputCol='label', outputCol='target')\n",
    "assembler = VectorAssembler(inputCols=df.columns[1:-1], outputCol='features')\n",
    "scaler = StandardScaler(inputCol=assembler.getOutputCol(), outputCol=\"scaledFeatures\",\n",
    "                        withStd=True, withMean=True)\n",
    "plr = LogisticRegression(featuresCol=scaler.getOutputCol(), labelCol='target')\n",
    "\n",
    "pipeline_plr = Pipeline(stages=[indexer, assembler, scaler, plr])"
   ]
  },
  {
   "cell_type": "code",
   "execution_count": 24,
   "metadata": {
    "collapsed": true,
    "deletable": true,
    "editable": true
   },
   "outputs": [],
   "source": [
    "## parameter grid\n",
    "param_plr = ParamGridBuilder().addGrid(plr.regParam, [0.1,1,10])\\\n",
    "                              .addGrid(plr.elasticNetParam, [0, 0.5, 1])\\\n",
    "                              .build() ## list of dicts"
   ]
  },
  {
   "cell_type": "code",
   "execution_count": 25,
   "metadata": {
    "collapsed": false,
    "deletable": true,
    "editable": true
   },
   "outputs": [
    {
     "data": {
      "text/plain": [
       "{Param(parent='LogisticRegression_452f9d9f53cc0684355e', name='elasticNetParam', doc='the ElasticNet mixing parameter, in range [0, 1]. For alpha = 0, the penalty is an L2 penalty. For alpha = 1, it is an L1 penalty.'): 0,\n",
       " Param(parent='LogisticRegression_452f9d9f53cc0684355e', name='regParam', doc='regularization parameter (>= 0).'): 0.1}"
      ]
     },
     "execution_count": 25,
     "metadata": {},
     "output_type": "execute_result"
    }
   ],
   "source": [
    "param_plr[0] ## element contains an explanation for a parameter"
   ]
  },
  {
   "cell_type": "code",
   "execution_count": 26,
   "metadata": {
    "collapsed": true,
    "deletable": true,
    "editable": true
   },
   "outputs": [],
   "source": [
    "## create an Estimator executing cross-validation\n",
    "cv_plr = CrossValidator(estimator=pipeline_plr,\n",
    "                        estimatorParamMaps=param_plr,\n",
    "                        evaluator=BinaryClassificationEvaluator(labelCol='target'),\n",
    "                        numFolds=3)"
   ]
  },
  {
   "cell_type": "code",
   "execution_count": 27,
   "metadata": {
    "collapsed": false,
    "deletable": true,
    "editable": true
   },
   "outputs": [],
   "source": [
    "model_plr = cv_plr.fit(df) ## by fitting it, we obtain a Transformer"
   ]
  },
  {
   "cell_type": "code",
   "execution_count": 28,
   "metadata": {
    "collapsed": false,
    "deletable": true,
    "editable": true
   },
   "outputs": [
    {
     "data": {
      "text/plain": [
       "[0.9950977405808112,\n",
       " 0.9906988772985421,\n",
       " 0.9851063433903431,\n",
       " 0.9924913853725812,\n",
       " 0.5,\n",
       " 0.5,\n",
       " 0.9868870445310425,\n",
       " 0.5,\n",
       " 0.5]"
      ]
     },
     "execution_count": 28,
     "metadata": {},
     "output_type": "execute_result"
    }
   ],
   "source": [
    "model_plr.avgMetrics ## the CV scores of each parameter"
   ]
  },
  {
   "cell_type": "code",
   "execution_count": 29,
   "metadata": {
    "collapsed": true,
    "deletable": true,
    "editable": true
   },
   "outputs": [],
   "source": [
    "from collections import defaultdict\n",
    "\n",
    "def validation_result(grid,metrics):\n",
    "    df = defaultdict(list)\n",
    "\n",
    "    for param in grid:\n",
    "        for param_obj, param_val in param.items():\n",
    "            df[param_obj.name].append(param_val)\n",
    "\n",
    "    df = pd.DataFrame(df)\n",
    "    df['score'] = metrics\n",
    "    return df"
   ]
  },
  {
   "cell_type": "code",
   "execution_count": 30,
   "metadata": {
    "collapsed": false,
    "deletable": true,
    "editable": true
   },
   "outputs": [
    {
     "data": {
      "text/html": [
       "<div>\n",
       "<table border=\"1\" class=\"dataframe\">\n",
       "  <thead>\n",
       "    <tr style=\"text-align: right;\">\n",
       "      <th></th>\n",
       "      <th>elasticNetParam</th>\n",
       "      <th>regParam</th>\n",
       "      <th>score</th>\n",
       "    </tr>\n",
       "  </thead>\n",
       "  <tbody>\n",
       "    <tr>\n",
       "      <th>0</th>\n",
       "      <td>0.0</td>\n",
       "      <td>0.1</td>\n",
       "      <td>0.995098</td>\n",
       "    </tr>\n",
       "    <tr>\n",
       "      <th>1</th>\n",
       "      <td>0.0</td>\n",
       "      <td>1.0</td>\n",
       "      <td>0.990699</td>\n",
       "    </tr>\n",
       "    <tr>\n",
       "      <th>2</th>\n",
       "      <td>0.0</td>\n",
       "      <td>10.0</td>\n",
       "      <td>0.985106</td>\n",
       "    </tr>\n",
       "    <tr>\n",
       "      <th>3</th>\n",
       "      <td>0.5</td>\n",
       "      <td>0.1</td>\n",
       "      <td>0.992491</td>\n",
       "    </tr>\n",
       "    <tr>\n",
       "      <th>4</th>\n",
       "      <td>0.5</td>\n",
       "      <td>1.0</td>\n",
       "      <td>0.500000</td>\n",
       "    </tr>\n",
       "    <tr>\n",
       "      <th>5</th>\n",
       "      <td>0.5</td>\n",
       "      <td>10.0</td>\n",
       "      <td>0.500000</td>\n",
       "    </tr>\n",
       "    <tr>\n",
       "      <th>6</th>\n",
       "      <td>1.0</td>\n",
       "      <td>0.1</td>\n",
       "      <td>0.986887</td>\n",
       "    </tr>\n",
       "    <tr>\n",
       "      <th>7</th>\n",
       "      <td>1.0</td>\n",
       "      <td>1.0</td>\n",
       "      <td>0.500000</td>\n",
       "    </tr>\n",
       "    <tr>\n",
       "      <th>8</th>\n",
       "      <td>1.0</td>\n",
       "      <td>10.0</td>\n",
       "      <td>0.500000</td>\n",
       "    </tr>\n",
       "  </tbody>\n",
       "</table>\n",
       "</div>"
      ],
      "text/plain": [
       "   elasticNetParam  regParam     score\n",
       "0              0.0       0.1  0.995098\n",
       "1              0.0       1.0  0.990699\n",
       "2              0.0      10.0  0.985106\n",
       "3              0.5       0.1  0.992491\n",
       "4              0.5       1.0  0.500000\n",
       "5              0.5      10.0  0.500000\n",
       "6              1.0       0.1  0.986887\n",
       "7              1.0       1.0  0.500000\n",
       "8              1.0      10.0  0.500000"
      ]
     },
     "execution_count": 30,
     "metadata": {},
     "output_type": "execute_result"
    }
   ],
   "source": [
    "validation_result(param_plr, model_plr.avgMetrics) ## show the results of the cross-validation"
   ]
  },
  {
   "cell_type": "code",
   "execution_count": 31,
   "metadata": {
    "collapsed": true,
    "deletable": true,
    "editable": true
   },
   "outputs": [],
   "source": [
    "### decision tree\n",
    "from pyspark.ml.classification import DecisionTreeClassifier\n",
    "tree = DecisionTreeClassifier(featuresCol=scaler.getOutputCol(), labelCol='target')\n",
    "param_tree = ParamGridBuilder().addGrid(tree.maxDepth, [2,3,5,7,11]).build()\n",
    "\n",
    "pipeline_tree = Pipeline(stages=[indexer, assembler, scaler, tree])\n",
    "\n",
    "cv_tree = CrossValidator(estimator=pipeline_tree,\n",
    "                              estimatorParamMaps=param_tree,\n",
    "                              evaluator=BinaryClassificationEvaluator(labelCol='target'),\n",
    "                              numFolds=3)"
   ]
  },
  {
   "cell_type": "code",
   "execution_count": 32,
   "metadata": {
    "collapsed": false,
    "deletable": true,
    "editable": true
   },
   "outputs": [],
   "source": [
    "model_tree = cv_tree.fit(df)"
   ]
  },
  {
   "cell_type": "code",
   "execution_count": 33,
   "metadata": {
    "collapsed": false,
    "deletable": true,
    "editable": true
   },
   "outputs": [
    {
     "data": {
      "text/html": [
       "<div>\n",
       "<table border=\"1\" class=\"dataframe\">\n",
       "  <thead>\n",
       "    <tr style=\"text-align: right;\">\n",
       "      <th></th>\n",
       "      <th>maxDepth</th>\n",
       "      <th>score</th>\n",
       "    </tr>\n",
       "  </thead>\n",
       "  <tbody>\n",
       "    <tr>\n",
       "      <th>0</th>\n",
       "      <td>2</td>\n",
       "      <td>0.923427</td>\n",
       "    </tr>\n",
       "    <tr>\n",
       "      <th>1</th>\n",
       "      <td>3</td>\n",
       "      <td>0.957680</td>\n",
       "    </tr>\n",
       "    <tr>\n",
       "      <th>2</th>\n",
       "      <td>5</td>\n",
       "      <td>0.938555</td>\n",
       "    </tr>\n",
       "    <tr>\n",
       "      <th>3</th>\n",
       "      <td>7</td>\n",
       "      <td>0.942534</td>\n",
       "    </tr>\n",
       "    <tr>\n",
       "      <th>4</th>\n",
       "      <td>11</td>\n",
       "      <td>0.942534</td>\n",
       "    </tr>\n",
       "  </tbody>\n",
       "</table>\n",
       "</div>"
      ],
      "text/plain": [
       "   maxDepth     score\n",
       "0         2  0.923427\n",
       "1         3  0.957680\n",
       "2         5  0.938555\n",
       "3         7  0.942534\n",
       "4        11  0.942534"
      ]
     },
     "execution_count": 33,
     "metadata": {},
     "output_type": "execute_result"
    }
   ],
   "source": [
    "validation_result(param_tree, model_tree.avgMetrics)"
   ]
  }
 ],
 "metadata": {
  "kernelspec": {
   "display_name": "Python 3",
   "language": "python",
   "name": "python3"
  },
  "language_info": {
   "codemirror_mode": {
    "name": "ipython",
    "version": 3
   },
   "file_extension": ".py",
   "mimetype": "text/x-python",
   "name": "python",
   "nbconvert_exporter": "python",
   "pygments_lexer": "ipython3",
   "version": "3.4.2"
  }
 },
 "nbformat": 4,
 "nbformat_minor": 2
}
