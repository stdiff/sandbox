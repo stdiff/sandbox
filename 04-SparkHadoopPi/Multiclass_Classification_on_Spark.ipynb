{
 "cells": [
  {
   "cell_type": "markdown",
   "metadata": {
    "deletable": true,
    "editable": true
   },
   "source": [
    "# Multiclass Classification on Spark\n",
    "\n",
    "The aim of this document is to execute a simple multiclass-classification on Spark"
   ]
  },
  {
   "cell_type": "code",
   "execution_count": 1,
   "metadata": {
    "collapsed": true,
    "deletable": true,
    "editable": true
   },
   "outputs": [],
   "source": [
    "import numpy as np\n",
    "import pandas as pd "
   ]
  },
  {
   "cell_type": "code",
   "execution_count": 2,
   "metadata": {
    "collapsed": false,
    "deletable": true,
    "editable": true
   },
   "outputs": [
    {
     "data": {
      "text/html": [
       "<div>\n",
       "<table border=\"1\" class=\"dataframe\">\n",
       "  <thead>\n",
       "    <tr style=\"text-align: right;\">\n",
       "      <th></th>\n",
       "      <th>sepal length</th>\n",
       "      <th>sepal width</th>\n",
       "      <th>petal length</th>\n",
       "      <th>petal width</th>\n",
       "      <th>species</th>\n",
       "    </tr>\n",
       "  </thead>\n",
       "  <tbody>\n",
       "    <tr>\n",
       "      <th>0</th>\n",
       "      <td>5.1</td>\n",
       "      <td>3.5</td>\n",
       "      <td>1.4</td>\n",
       "      <td>0.2</td>\n",
       "      <td>setosa</td>\n",
       "    </tr>\n",
       "    <tr>\n",
       "      <th>1</th>\n",
       "      <td>4.9</td>\n",
       "      <td>3.0</td>\n",
       "      <td>1.4</td>\n",
       "      <td>0.2</td>\n",
       "      <td>setosa</td>\n",
       "    </tr>\n",
       "    <tr>\n",
       "      <th>2</th>\n",
       "      <td>4.7</td>\n",
       "      <td>3.2</td>\n",
       "      <td>1.3</td>\n",
       "      <td>0.2</td>\n",
       "      <td>setosa</td>\n",
       "    </tr>\n",
       "    <tr>\n",
       "      <th>3</th>\n",
       "      <td>4.6</td>\n",
       "      <td>3.1</td>\n",
       "      <td>1.5</td>\n",
       "      <td>0.2</td>\n",
       "      <td>setosa</td>\n",
       "    </tr>\n",
       "    <tr>\n",
       "      <th>4</th>\n",
       "      <td>5.0</td>\n",
       "      <td>3.6</td>\n",
       "      <td>1.4</td>\n",
       "      <td>0.2</td>\n",
       "      <td>setosa</td>\n",
       "    </tr>\n",
       "  </tbody>\n",
       "</table>\n",
       "</div>"
      ],
      "text/plain": [
       "   sepal length  sepal width  petal length  petal width species\n",
       "0           5.1          3.5           1.4          0.2  setosa\n",
       "1           4.9          3.0           1.4          0.2  setosa\n",
       "2           4.7          3.2           1.3          0.2  setosa\n",
       "3           4.6          3.1           1.5          0.2  setosa\n",
       "4           5.0          3.6           1.4          0.2  setosa"
      ]
     },
     "execution_count": 2,
     "metadata": {},
     "output_type": "execute_result"
    }
   ],
   "source": [
    "from sklearn.datasets import load_iris\n",
    "\n",
    "iris = load_iris()\n",
    "df = pd.DataFrame(iris.data, columns=[x[:-5] for x in iris.feature_names])\n",
    "df['species'] = [iris.target_names[x] for x in iris.target]\n",
    "df.head()"
   ]
  },
  {
   "cell_type": "code",
   "execution_count": 3,
   "metadata": {
    "collapsed": false,
    "deletable": true,
    "editable": true
   },
   "outputs": [],
   "source": [
    "from sklearn.preprocessing import StandardScaler\n",
    "scaler = StandardScaler(with_mean=True, with_std=True)\n",
    "scaler.fit(df.drop('species',axis=1));"
   ]
  },
  {
   "cell_type": "code",
   "execution_count": 4,
   "metadata": {
    "collapsed": false,
    "deletable": true,
    "editable": true
   },
   "outputs": [
    {
     "data": {
      "text/html": [
       "<div>\n",
       "<table border=\"1\" class=\"dataframe\">\n",
       "  <thead>\n",
       "    <tr style=\"text-align: right;\">\n",
       "      <th></th>\n",
       "      <th>sepal length</th>\n",
       "      <th>sepal width</th>\n",
       "      <th>petal length</th>\n",
       "      <th>petal width</th>\n",
       "      <th>label</th>\n",
       "    </tr>\n",
       "  </thead>\n",
       "  <tbody>\n",
       "    <tr>\n",
       "      <th>145</th>\n",
       "      <td>1.038005</td>\n",
       "      <td>-0.124958</td>\n",
       "      <td>0.819624</td>\n",
       "      <td>1.447956</td>\n",
       "      <td>virginica</td>\n",
       "    </tr>\n",
       "    <tr>\n",
       "      <th>146</th>\n",
       "      <td>0.553333</td>\n",
       "      <td>-1.281972</td>\n",
       "      <td>0.705893</td>\n",
       "      <td>0.922064</td>\n",
       "      <td>virginica</td>\n",
       "    </tr>\n",
       "    <tr>\n",
       "      <th>147</th>\n",
       "      <td>0.795669</td>\n",
       "      <td>-0.124958</td>\n",
       "      <td>0.819624</td>\n",
       "      <td>1.053537</td>\n",
       "      <td>virginica</td>\n",
       "    </tr>\n",
       "    <tr>\n",
       "      <th>148</th>\n",
       "      <td>0.432165</td>\n",
       "      <td>0.800654</td>\n",
       "      <td>0.933356</td>\n",
       "      <td>1.447956</td>\n",
       "      <td>virginica</td>\n",
       "    </tr>\n",
       "    <tr>\n",
       "      <th>149</th>\n",
       "      <td>0.068662</td>\n",
       "      <td>-0.124958</td>\n",
       "      <td>0.762759</td>\n",
       "      <td>0.790591</td>\n",
       "      <td>virginica</td>\n",
       "    </tr>\n",
       "  </tbody>\n",
       "</table>\n",
       "</div>"
      ],
      "text/plain": [
       "     sepal length  sepal width  petal length  petal width      label\n",
       "145      1.038005    -0.124958      0.819624     1.447956  virginica\n",
       "146      0.553333    -1.281972      0.705893     0.922064  virginica\n",
       "147      0.795669    -0.124958      0.819624     1.053537  virginica\n",
       "148      0.432165     0.800654      0.933356     1.447956  virginica\n",
       "149      0.068662    -0.124958      0.762759     0.790591  virginica"
      ]
     },
     "execution_count": 4,
     "metadata": {},
     "output_type": "execute_result"
    }
   ],
   "source": [
    "dg = pd.DataFrame(scaler.transform(df.drop('species',axis=1)), columns=df.columns[:-1])\n",
    "dg['label'] = df['species']\n",
    "dg.tail()"
   ]
  },
  {
   "cell_type": "code",
   "execution_count": 5,
   "metadata": {
    "collapsed": false,
    "deletable": true,
    "editable": true
   },
   "outputs": [],
   "source": [
    "from sklearn.model_selection import train_test_split\n",
    "from itertools import product\n",
    "from collections import defaultdict\n",
    "\n",
    "def validation(df,target,estimator,grid_param,seed=42):\n",
    "    X_train, X_val, y_train, y_val = train_test_split(df.drop(target, axis=1), df[target],\n",
    "                                                      test_size=0.4, random_state=seed)\n",
    "    param_names = sorted(grid_param.keys())\n",
    "    df_score = defaultdict(list)\n",
    "\n",
    "    for param_values in product(*[grid_param[name] for name in param_names]):\n",
    "        param_tmp = {theta:val for theta,val in zip(param_names,param_values)}\n",
    "        for theta in param_names:\n",
    "            df_score[theta].append(param_tmp[theta])\n",
    "\n",
    "        model = estimator(**param_tmp)\n",
    "        model.fit(X_train,y_train)\n",
    "        df_score['accuracy'].append(np.mean(model.predict(X_val) == y_val))\n",
    "\n",
    "    return pd.DataFrame(df_score, columns=param_names+['accuracy'])"
   ]
  },
  {
   "cell_type": "code",
   "execution_count": 6,
   "metadata": {
    "collapsed": false,
    "deletable": true,
    "editable": true
   },
   "outputs": [
    {
     "data": {
      "text/html": [
       "<div>\n",
       "<table border=\"1\" class=\"dataframe\">\n",
       "  <thead>\n",
       "    <tr style=\"text-align: right;\">\n",
       "      <th></th>\n",
       "      <th>max_depth</th>\n",
       "      <th>n_estimators</th>\n",
       "      <th>accuracy</th>\n",
       "    </tr>\n",
       "  </thead>\n",
       "  <tbody>\n",
       "    <tr>\n",
       "      <th>0</th>\n",
       "      <td>3</td>\n",
       "      <td>10</td>\n",
       "      <td>0.983333</td>\n",
       "    </tr>\n",
       "    <tr>\n",
       "      <th>1</th>\n",
       "      <td>3</td>\n",
       "      <td>20</td>\n",
       "      <td>0.983333</td>\n",
       "    </tr>\n",
       "    <tr>\n",
       "      <th>2</th>\n",
       "      <td>3</td>\n",
       "      <td>30</td>\n",
       "      <td>0.983333</td>\n",
       "    </tr>\n",
       "    <tr>\n",
       "      <th>3</th>\n",
       "      <td>5</td>\n",
       "      <td>10</td>\n",
       "      <td>0.983333</td>\n",
       "    </tr>\n",
       "    <tr>\n",
       "      <th>4</th>\n",
       "      <td>5</td>\n",
       "      <td>20</td>\n",
       "      <td>0.983333</td>\n",
       "    </tr>\n",
       "    <tr>\n",
       "      <th>5</th>\n",
       "      <td>5</td>\n",
       "      <td>30</td>\n",
       "      <td>0.983333</td>\n",
       "    </tr>\n",
       "    <tr>\n",
       "      <th>6</th>\n",
       "      <td>7</td>\n",
       "      <td>10</td>\n",
       "      <td>0.983333</td>\n",
       "    </tr>\n",
       "    <tr>\n",
       "      <th>7</th>\n",
       "      <td>7</td>\n",
       "      <td>20</td>\n",
       "      <td>1.000000</td>\n",
       "    </tr>\n",
       "    <tr>\n",
       "      <th>8</th>\n",
       "      <td>7</td>\n",
       "      <td>30</td>\n",
       "      <td>0.983333</td>\n",
       "    </tr>\n",
       "  </tbody>\n",
       "</table>\n",
       "</div>"
      ],
      "text/plain": [
       "   max_depth  n_estimators  accuracy\n",
       "0          3            10  0.983333\n",
       "1          3            20  0.983333\n",
       "2          3            30  0.983333\n",
       "3          5            10  0.983333\n",
       "4          5            20  0.983333\n",
       "5          5            30  0.983333\n",
       "6          7            10  0.983333\n",
       "7          7            20  1.000000\n",
       "8          7            30  0.983333"
      ]
     },
     "execution_count": 6,
     "metadata": {},
     "output_type": "execute_result"
    }
   ],
   "source": [
    "from sklearn.ensemble import RandomForestClassifier\n",
    "param_rf = {'n_estimators': [10,20,30], 'max_depth': [3,5,7]}\n",
    "\n",
    "validation(dg,'label',RandomForestClassifier,param_rf)"
   ]
  },
  {
   "cell_type": "code",
   "execution_count": 7,
   "metadata": {
    "collapsed": false,
    "deletable": true,
    "editable": true
   },
   "outputs": [],
   "source": [
    "df.reset_index().to_csv('/tmp/iris.csv', index=False)"
   ]
  },
  {
   "cell_type": "markdown",
   "metadata": {
    "deletable": true,
    "editable": true
   },
   "source": [
    "Spark"
   ]
  },
  {
   "cell_type": "code",
   "execution_count": 8,
   "metadata": {
    "collapsed": true,
    "deletable": true,
    "editable": true
   },
   "outputs": [],
   "source": [
    "from pyspark.sql import SparkSession\n",
    "\n",
    "spark = SparkSession.builder\\\n",
    "                    .appName(\"Multiclass classification on Spark\")\\\n",
    "                    .config(\"spark.some.config.option\", \"some-value\")\\\n",
    "                    .getOrCreate()"
   ]
  },
  {
   "cell_type": "code",
   "execution_count": 9,
   "metadata": {
    "collapsed": false,
    "deletable": true,
    "editable": true
   },
   "outputs": [
    {
     "name": "stdout",
     "output_type": "stream",
     "text": [
      "['index', 'sepal length', 'sepal width', 'petal length', 'petal width', 'species']\n"
     ]
    }
   ],
   "source": [
    "## load the data\n",
    "df = spark.read.csv('/tmp/iris.csv', header=True)\n",
    "print(df.columns)"
   ]
  },
  {
   "cell_type": "code",
   "execution_count": 10,
   "metadata": {
    "collapsed": false,
    "deletable": true,
    "editable": true
   },
   "outputs": [
    {
     "name": "stdout",
     "output_type": "stream",
     "text": [
      "root\n",
      " |-- index: string (nullable = true)\n",
      " |-- sepal length: string (nullable = true)\n",
      " |-- sepal width: string (nullable = true)\n",
      " |-- petal length: string (nullable = true)\n",
      " |-- petal width: string (nullable = true)\n",
      " |-- species: string (nullable = true)\n",
      "\n"
     ]
    }
   ],
   "source": [
    "df.printSchema()"
   ]
  },
  {
   "cell_type": "code",
   "execution_count": 11,
   "metadata": {
    "collapsed": true,
    "deletable": true,
    "editable": true
   },
   "outputs": [],
   "source": [
    "for col in df.columns[:-1]:\n",
    "    df = df.withColumn(col, df[col].cast('float'))"
   ]
  },
  {
   "cell_type": "code",
   "execution_count": 12,
   "metadata": {
    "collapsed": false,
    "deletable": true,
    "editable": true
   },
   "outputs": [
    {
     "name": "stdout",
     "output_type": "stream",
     "text": [
      "root\n",
      " |-- index: float (nullable = true)\n",
      " |-- sepal length: float (nullable = true)\n",
      " |-- sepal width: float (nullable = true)\n",
      " |-- petal length: float (nullable = true)\n",
      " |-- petal width: float (nullable = true)\n",
      " |-- species: string (nullable = true)\n",
      "\n"
     ]
    }
   ],
   "source": [
    "df.printSchema()"
   ]
  },
  {
   "cell_type": "code",
   "execution_count": 13,
   "metadata": {
    "collapsed": false,
    "deletable": true,
    "editable": true
   },
   "outputs": [
    {
     "name": "stdout",
     "output_type": "stream",
     "text": [
      "+-----+----------------------------------------------------------------------------+-----+\n",
      "|index|features                                                                    |label|\n",
      "+-----+----------------------------------------------------------------------------+-----+\n",
      "|0.0  |[5.099999904632568,3.5,1.399999976158142,0.20000000298023224]               |2.0  |\n",
      "|1.0  |[4.900000095367432,3.0,1.399999976158142,0.20000000298023224]               |2.0  |\n",
      "|2.0  |[4.699999809265137,3.200000047683716,1.2999999523162842,0.20000000298023224]|2.0  |\n",
      "|3.0  |[4.599999904632568,3.0999999046325684,1.5,0.20000000298023224]              |2.0  |\n",
      "|4.0  |[5.0,3.5999999046325684,1.399999976158142,0.20000000298023224]              |2.0  |\n",
      "+-----+----------------------------------------------------------------------------+-----+\n",
      "only showing top 5 rows\n",
      "\n"
     ]
    }
   ],
   "source": [
    "from pyspark.ml.feature import RFormula\n",
    "formula = RFormula(formula='species ~ . - index', featuresCol=\"features\", labelCol=\"label\")\n",
    "\n",
    "## check\n",
    "output1 = formula.fit(df).transform(df)\n",
    "output1.select(['index','features','label']).show(5, truncate=False)"
   ]
  },
  {
   "cell_type": "code",
   "execution_count": 14,
   "metadata": {
    "collapsed": false,
    "deletable": true,
    "editable": true
   },
   "outputs": [
    {
     "name": "stdout",
     "output_type": "stream",
     "text": [
      "+-----+----------------------------------------------------------------------------------+-----+\n",
      "|index|scaledFeatures                                                                    |label|\n",
      "+-----+----------------------------------------------------------------------------------+-----+\n",
      "|0.0  |[-0.8976740030829902,1.0286112757883925,-1.3367940314975197,-1.3085928211141895]  |2.0  |\n",
      "|1.0  |[-1.1392003814247418,-0.12454038525827196,-1.3367940314975197,-1.3085928211141895]|2.0  |\n",
      "|2.0  |[-1.380727335610802,0.33672038913350605,-1.3934698798519933,-1.3085928211141895]  |2.0  |\n",
      "|3.0  |[-1.5014905247816779,0.10608972700483654,-1.2801181831430464,-1.3085928211141895] |2.0  |\n",
      "|4.0  |[-1.018437192253866,1.259241388051501,-1.3367940314975197,-1.3085928211141895]    |2.0  |\n",
      "+-----+----------------------------------------------------------------------------------+-----+\n",
      "only showing top 5 rows\n",
      "\n"
     ]
    }
   ],
   "source": [
    "from pyspark.ml.feature import StandardScaler\n",
    "scaler = StandardScaler(inputCol=\"features\", outputCol=\"scaledFeatures\",\n",
    "                        withStd=True, withMean=True)\n",
    "\n",
    "## check\n",
    "output2 = scaler.fit(output1).transform(output1)\n",
    "output2.select(['index','scaledFeatures','label']).show(5, truncate=False)"
   ]
  },
  {
   "cell_type": "code",
   "execution_count": 15,
   "metadata": {
    "collapsed": false,
    "deletable": true,
    "editable": true
   },
   "outputs": [
    {
     "name": "stdout",
     "output_type": "stream",
     "text": [
      "+-----+-------+-----+--------------+---------------+----------+\n",
      "|index|species|label| rawPrediction|    probability|prediction|\n",
      "+-----+-------+-----+--------------+---------------+----------+\n",
      "|  0.0| setosa|  2.0|[0.0,0.0,20.0]|  [0.0,0.0,1.0]|       2.0|\n",
      "|  1.0| setosa|  2.0|[0.0,0.0,20.0]|  [0.0,0.0,1.0]|       2.0|\n",
      "|  2.0| setosa|  2.0|[0.0,0.0,20.0]|  [0.0,0.0,1.0]|       2.0|\n",
      "|  3.0| setosa|  2.0|[0.0,0.0,20.0]|  [0.0,0.0,1.0]|       2.0|\n",
      "|  4.0| setosa|  2.0|[0.0,0.0,20.0]|  [0.0,0.0,1.0]|       2.0|\n",
      "|  5.0| setosa|  2.0|[1.0,0.0,19.0]|[0.05,0.0,0.95]|       2.0|\n",
      "|  6.0| setosa|  2.0|[0.0,0.0,20.0]|  [0.0,0.0,1.0]|       2.0|\n",
      "|  7.0| setosa|  2.0|[0.0,0.0,20.0]|  [0.0,0.0,1.0]|       2.0|\n",
      "|  8.0| setosa|  2.0|[0.0,0.0,20.0]|  [0.0,0.0,1.0]|       2.0|\n",
      "|  9.0| setosa|  2.0|[0.0,0.0,20.0]|  [0.0,0.0,1.0]|       2.0|\n",
      "| 10.0| setosa|  2.0|[0.0,0.0,20.0]|  [0.0,0.0,1.0]|       2.0|\n",
      "| 11.0| setosa|  2.0|[0.0,0.0,20.0]|  [0.0,0.0,1.0]|       2.0|\n",
      "| 12.0| setosa|  2.0|[0.0,0.0,20.0]|  [0.0,0.0,1.0]|       2.0|\n",
      "| 13.0| setosa|  2.0|[0.0,0.0,20.0]|  [0.0,0.0,1.0]|       2.0|\n",
      "| 14.0| setosa|  2.0|[0.0,0.0,20.0]|  [0.0,0.0,1.0]|       2.0|\n",
      "| 15.0| setosa|  2.0|[0.0,0.0,20.0]|  [0.0,0.0,1.0]|       2.0|\n",
      "| 16.0| setosa|  2.0|[0.0,0.0,20.0]|  [0.0,0.0,1.0]|       2.0|\n",
      "| 17.0| setosa|  2.0|[0.0,0.0,20.0]|  [0.0,0.0,1.0]|       2.0|\n",
      "| 18.0| setosa|  2.0|[1.0,0.0,19.0]|[0.05,0.0,0.95]|       2.0|\n",
      "| 19.0| setosa|  2.0|[0.0,0.0,20.0]|  [0.0,0.0,1.0]|       2.0|\n",
      "+-----+-------+-----+--------------+---------------+----------+\n",
      "only showing top 20 rows\n",
      "\n"
     ]
    }
   ],
   "source": [
    "from pyspark.ml.classification import RandomForestClassifier\n",
    "estimator_rf = RandomForestClassifier(featuresCol='scaledFeatures', labelCol='label')\n",
    "\n",
    "## check\n",
    "output3 = estimator_rf.fit(output2).transform(output2)\n",
    "output3.select(['index','species','label','rawPrediction','probability','prediction']).show()"
   ]
  },
  {
   "cell_type": "code",
   "execution_count": 16,
   "metadata": {
    "collapsed": true,
    "deletable": true,
    "editable": true
   },
   "outputs": [],
   "source": [
    "from pyspark.ml import Pipeline\n",
    "from pyspark.ml.tuning import ParamGridBuilder, TrainValidationSplit\n",
    "from pyspark.ml.evaluation import BinaryClassificationEvaluator\n",
    "\n",
    "formula = RFormula(formula='species ~ . - index', featuresCol=\"features\", labelCol=\"label\")\n",
    "scaler = StandardScaler(inputCol=formula.getFeaturesCol(), outputCol=\"scaledFeatures\",\n",
    "                        withStd=True, withMean=True)"
   ]
  },
  {
   "cell_type": "code",
   "execution_count": 17,
   "metadata": {
    "collapsed": false,
    "deletable": true,
    "editable": true
   },
   "outputs": [],
   "source": [
    "estimator_rf = RandomForestClassifier(featuresCol=scaler.getOutputCol(), labelCol='label', seed=3)\n",
    "grid_rf = ParamGridBuilder().addGrid(estimator_rf.maxDepth, [3,5,7])\\\n",
    "                            .addGrid(estimator_rf.numTrees, [10,20,30])\\\n",
    "                            .build()\n",
    "\n",
    "pipeline_rf = Pipeline(stages=[formula, scaler, estimator_rf])"
   ]
  },
  {
   "cell_type": "code",
   "execution_count": 18,
   "metadata": {
    "collapsed": false,
    "deletable": true,
    "editable": true
   },
   "outputs": [],
   "source": [
    "tvs_rf = TrainValidationSplit(estimator=pipeline_rf,\n",
    "                              estimatorParamMaps=grid_rf,\n",
    "                              evaluator=BinaryClassificationEvaluator(),\n",
    "                              trainRatio=0.7)"
   ]
  },
  {
   "cell_type": "code",
   "execution_count": 19,
   "metadata": {
    "collapsed": false,
    "deletable": true,
    "editable": true
   },
   "outputs": [],
   "source": [
    "model_rf = tvs_rf.fit(df)"
   ]
  },
  {
   "cell_type": "code",
   "execution_count": 20,
   "metadata": {
    "collapsed": false,
    "deletable": true,
    "editable": true
   },
   "outputs": [
    {
     "data": {
      "text/plain": [
       "PipelineModel_45bf9477d9f612c99000"
      ]
     },
     "execution_count": 20,
     "metadata": {},
     "output_type": "execute_result"
    }
   ],
   "source": [
    "model_rf.bestModel"
   ]
  },
  {
   "cell_type": "code",
   "execution_count": 21,
   "metadata": {
    "collapsed": false,
    "deletable": true,
    "editable": true
   },
   "outputs": [
    {
     "data": {
      "text/html": [
       "<div>\n",
       "<table border=\"1\" class=\"dataframe\">\n",
       "  <thead>\n",
       "    <tr style=\"text-align: right;\">\n",
       "      <th></th>\n",
       "      <th>maxDepth</th>\n",
       "      <th>numTrees</th>\n",
       "      <th>score</th>\n",
       "    </tr>\n",
       "  </thead>\n",
       "  <tbody>\n",
       "    <tr>\n",
       "      <th>0</th>\n",
       "      <td>3</td>\n",
       "      <td>10</td>\n",
       "      <td>0.900744</td>\n",
       "    </tr>\n",
       "    <tr>\n",
       "      <th>6</th>\n",
       "      <td>3</td>\n",
       "      <td>30</td>\n",
       "      <td>0.868486</td>\n",
       "    </tr>\n",
       "    <tr>\n",
       "      <th>3</th>\n",
       "      <td>3</td>\n",
       "      <td>20</td>\n",
       "      <td>0.856079</td>\n",
       "    </tr>\n",
       "    <tr>\n",
       "      <th>7</th>\n",
       "      <td>5</td>\n",
       "      <td>30</td>\n",
       "      <td>0.760546</td>\n",
       "    </tr>\n",
       "    <tr>\n",
       "      <th>8</th>\n",
       "      <td>7</td>\n",
       "      <td>30</td>\n",
       "      <td>0.756824</td>\n",
       "    </tr>\n",
       "    <tr>\n",
       "      <th>1</th>\n",
       "      <td>5</td>\n",
       "      <td>10</td>\n",
       "      <td>0.755583</td>\n",
       "    </tr>\n",
       "    <tr>\n",
       "      <th>2</th>\n",
       "      <td>7</td>\n",
       "      <td>10</td>\n",
       "      <td>0.754342</td>\n",
       "    </tr>\n",
       "    <tr>\n",
       "      <th>4</th>\n",
       "      <td>5</td>\n",
       "      <td>20</td>\n",
       "      <td>0.715881</td>\n",
       "    </tr>\n",
       "    <tr>\n",
       "      <th>5</th>\n",
       "      <td>7</td>\n",
       "      <td>20</td>\n",
       "      <td>0.715881</td>\n",
       "    </tr>\n",
       "  </tbody>\n",
       "</table>\n",
       "</div>"
      ],
      "text/plain": [
       "   maxDepth  numTrees     score\n",
       "0         3        10  0.900744\n",
       "6         3        30  0.868486\n",
       "3         3        20  0.856079\n",
       "7         5        30  0.760546\n",
       "8         7        30  0.756824\n",
       "1         5        10  0.755583\n",
       "2         7        10  0.754342\n",
       "4         5        20  0.715881\n",
       "5         7        20  0.715881"
      ]
     },
     "execution_count": 21,
     "metadata": {},
     "output_type": "execute_result"
    }
   ],
   "source": [
    "from collections import defaultdict\n",
    "\n",
    "def validation_result(grid,metrics,value='score',sort=False):\n",
    "    df = defaultdict(list)\n",
    "\n",
    "    for param in grid:\n",
    "        for param_obj, param_val in param.items():\n",
    "            df[param_obj.name].append(param_val)\n",
    "\n",
    "    df = pd.DataFrame(df)\n",
    "    df[value] = metrics\n",
    "\n",
    "    if sort:\n",
    "        return df.sort_values(by=value, ascending=False)\n",
    "    else:\n",
    "        return df\n",
    "\n",
    "validation_result(grid_rf, model_rf.validationMetrics,sort=True)"
   ]
  },
  {
   "cell_type": "code",
   "execution_count": null,
   "metadata": {
    "collapsed": true,
    "deletable": true,
    "editable": true
   },
   "outputs": [],
   "source": []
  }
 ],
 "metadata": {
  "kernelspec": {
   "display_name": "Python 3",
   "language": "python",
   "name": "python3"
  },
  "language_info": {
   "codemirror_mode": {
    "name": "ipython",
    "version": 3
   },
   "file_extension": ".py",
   "mimetype": "text/x-python",
   "name": "python",
   "nbconvert_exporter": "python",
   "pygments_lexer": "ipython3",
   "version": "3.4.2"
  }
 },
 "nbformat": 4,
 "nbformat_minor": 2
}
